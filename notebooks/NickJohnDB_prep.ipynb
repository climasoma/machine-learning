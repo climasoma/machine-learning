{
 "cells": [
  {
   "cell_type": "markdown",
   "metadata": {},
   "source": [
    "# Initialization\n",
    "This script build the dataframe that will be used for the Machine Learning (ML) part. It reads in the KunsatDB and add additional feature based on localisation. It also perform some encoding of categorical features."
   ]
  },
  {
   "cell_type": "code",
   "execution_count": 3,
   "metadata": {},
   "outputs": [],
   "source": [
    "import ast\n",
    "import glob\n",
    "import math\n",
    "import os\n",
    "import pickle\n",
    "import random\n",
    "import statistics\n",
    "import geopandas as gpd\n",
    "import matplotlib\n",
    "import matplotlib.gridspec as gridspec\n",
    "import matplotlib.pyplot as plt\n",
    "import numpy as np\n",
    "import pandas as pd\n",
    "import rasterio\n",
    "import seaborn as sns\n",
    "import statsmodels.api as s\n",
    "from IPython.display import Image, Markdown, display\n",
    "from rasterio.plot import show\n",
    "from tqdm.notebook import tqdm, trange\n",
    "import missingno as msno\n",
    "import folium\n",
    "from folium.plugins import BeautifyIcon\n",
    "from sklearn.cluster import KMeans\n",
    "from sklearn.decomposition import PCA\n",
    "from sklearn.compose import TransformedTargetRegressor\n",
    "from sklearn.preprocessing import RobustScaler\n",
    "import warnings\n",
    "warnings.filterwarnings('ignore')\n",
    "\n",
    "data_dir = \"../wd/\"\n",
    "\n",
    "sns.set(rc={\"figure.figsize\":(14, 6)}, font_scale=1.3) \n",
    "sns.set_style(\"ticks\")"
   ]
  },
  {
   "cell_type": "code",
   "execution_count": 9,
   "metadata": {},
   "outputs": [],
   "source": [
    "# load df, if xlsx file has multiple sheets all are stored in a dictionary\n",
    "NickJohnDB = pd.read_excel(data_dir + \"OTIM-DB.xlsx\", sheet_name=None)\n",
    "\n",
    "# split dict into important sheets\n",
    "NickJohnDB_comb = NickJohnDB[\"experiments\"]\n",
    "NickJohnDB_loc = NickJohnDB['locations']\n",
    "NickJohnDB_climate = NickJohnDB[\"climate\"]\n",
    "NickJohnDB_method = NickJohnDB['method']\n",
    "NickJohnDB_fit = NickJohnDB['modelFit']\n",
    "NickJohnDB_ref = NickJohnDB['reference']\n",
    "NickJohnDB_soil = NickJohnDB['soilProperties']\n",
    "NickJohnDB_management = NickJohnDB['soilManagement']"
   ]
  },
  {
   "cell_type": "markdown",
   "metadata": {
    "heading_collapsed": "true",
    "tags": []
   },
   "source": [
    "# Functions"
   ]
  },
  {
   "cell_type": "code",
   "execution_count": 10,
   "metadata": {},
   "outputs": [],
   "source": [
    "def onehot_landuse(df, column, new_column, value_list):\n",
    "    \"\"\"The function searches a column of an df that contains \n",
    "    multiple entries seperated e.g. crop rotation for \n",
    "    certain keywords given in a list and returns a new binary\n",
    "    column for this keywords e.g. rotation contains cereals.\n",
    "\n",
    "    Parameters\n",
    "    ----------\n",
    "    df : dataframe\n",
    "        Original dataframe that should be used.\n",
    "\n",
    "    column : string\n",
    "        Name if column that should be searched.\n",
    "\n",
    "    new_column : string\n",
    "        Name of new column that is generated.\n",
    "\n",
    "    value_list : list\n",
    "        List of values that functions as key words for the search.\n",
    "\n",
    "    Returns:\n",
    "    --------\n",
    "        No Returns. New column is generated in the used dataframe\n",
    "    \"\"\"\n",
    "    df[new_column] = \"no\"\n",
    "    df.loc[df[column].replace(np.nan, \"unknown\").str.contains(r'\\b(?:{})\\b'.format('|'.join(value_list))), new_column] = \"yes\"\n",
    "\n",
    "\n",
    "def kMeansRes(scaled_data, k, alpha_k=0.02):\n",
    "    '''Perform a kmean based on a matrix with feature in column\n",
    "    and sample in rows. Returns the scaled inertia of the groups.\n",
    "\n",
    "    Parameters \n",
    "    ----------\n",
    "    scaled_data : numpy.array (2D)\n",
    "        Scaled data. Rows are samples and columns are features for clustering.\n",
    "    k : int\n",
    "        Current k for applying KMeans.\n",
    "    alpha_k : float\n",
    "        Manually tuned factor that gives penalty to the number of clusters.\n",
    "\n",
    "    Returns \n",
    "    -------\n",
    "    scaled_inertia : float\n",
    "        scaled inertia value for current k\n",
    "    '''\n",
    "    inertia_o = np.square((scaled_data - scaled_data.mean(axis=0))).sum()\n",
    "    # fit k-means\n",
    "    kmeans = KMeans(n_clusters=k, random_state=0).fit(scaled_data)\n",
    "    scaled_inertia = kmeans.inertia_ / inertia_o + alpha_k * k\n",
    "    return scaled_inertia\n",
    "\n",
    "\n",
    "def chooseBestKforKMeans(scaled_data, k_range):\n",
    "    ans = []\n",
    "    for k in k_range:\n",
    "        scaled_inertia = kMeansRes(scaled_data, k)\n",
    "        ans.append((k, scaled_inertia))\n",
    "    results = pd.DataFrame(ans, columns = ['k', 'Scaled Inertia']).set_index('k')\n",
    "    best_k = results.idxmin()[0]\n",
    "    return best_k, results"
   ]
  },
  {
   "cell_type": "markdown",
   "metadata": {},
   "source": [
    "# Data preparation"
   ]
  },
  {
   "cell_type": "code",
   "execution_count": 11,
   "metadata": {},
   "outputs": [],
   "source": [
    "# merging the different dataframe on the experiment sheet, which serves as key sheet \n",
    "df = NickJohnDB_comb.merge(\n",
    "    NickJohnDB_loc, how=\"left\", left_on=\"Location\",  right_on=\"Location\").merge(\n",
    "    NickJohnDB_ref, how=\"left\", left_on=\"ReferenceTag\", right_on=\"ReferenceTag\").merge(\n",
    "    NickJohnDB_method, how=\"left\", left_on=\"MethodName\", right_on=\"MethodName\").merge(\n",
    "    NickJohnDB_soil, how=\"left\", left_on=\"SPName\", right_on=\"SPName\").merge(\n",
    "    NickJohnDB_climate, how=\"left\").merge(\n",
    "    NickJohnDB_fit, how=\"left\").merge(\n",
    "    NickJohnDB_management, how=\"left\")"
   ]
  },
  {
   "cell_type": "code",
   "execution_count": 12,
   "metadata": {},
   "outputs": [],
   "source": [
    "# cleaning values (replace -9999 by np.nan)\n",
    "col_obj = df.select_dtypes(include=[\"object\"]).columns.to_list()\n",
    "col_num = df.select_dtypes(include=[\"float64\", \"int64\"]).columns.to_list()\n",
    "\n",
    "df = df.replace([\"-\", \"unknown\", -9999], np.nan)\n",
    "NickJohnDB_loc = NickJohnDB_loc.replace([\"-\", \"unknown\", -9999], np.nan)"
   ]
  },
  {
   "cell_type": "code",
   "execution_count": 13,
   "metadata": {},
   "outputs": [],
   "source": [
    "# generating corresponding log values for K\n",
    "k_list = [\n",
    " 'Ks',\n",
    " 'K1',\n",
    " 'K2',\n",
    " 'K3',\n",
    " 'K4',\n",
    " 'K5',\n",
    " 'K6',\n",
    " 'K7',\n",
    " 'K8',\n",
    " 'K9',\n",
    " 'K10']\n",
    "\n",
    "for i in k_list:\n",
    "    df[\"log_\" + i] = np.log10(df[i])"
   ]
  },
  {
   "cell_type": "markdown",
   "metadata": {
    "tags": []
   },
   "source": [
    "## Climate Data \n",
    "In this section, additional climatic data are added based on location. They are extracted from raster from the bioclim database (https://www.worldclim.org/data/worldclim21.html).\n",
    "\n",
    "References:\n",
    "- BioClim: Fick, Stephen E., and Robert J. Hijmans. 2017. “WorldClim 2: New 1‐km Spatial Resolution Climate Surfaces for Global Land Areas.” International Journal of Climatology 37 (12): 4302–15. https://doi.org/10.1002/joc.5086.\n",
    "- Global Aridity Index and Potential Evapotranspiration: Trabucco, Antonio, and Robert Zomer. 2018. “Global Aridity Index and Potential Evapotranspiration (ET0) Climate Database V2.” figshare. https://doi.org/10.6084/M9.FIGSHARE.7504448.V1.\n"
   ]
  },
  {
   "cell_type": "code",
   "execution_count": 17,
   "metadata": {},
   "outputs": [],
   "source": [
    "# create dict with directory and he column name for df\n",
    "bioclim_dic = {\n",
    " data_dir + 'wc2.1_30s_bio/wc2.1_30s_bio_1.tif' : \"AnnualMeanTemperature\",\n",
    " data_dir + 'wc2.1_30s_bio/wc2.1_30s_bio_2.tif' : \"MeanDiurnalRange\",\n",
    " data_dir + 'wc2.1_30s_bio/wc2.1_30s_bio_3.tif' : \"Isothermality\",\n",
    " data_dir + 'wc2.1_30s_bio/wc2.1_30s_bio_4.tif' : \"TemperatureSeasonality\",\n",
    " data_dir + 'wc2.1_30s_bio/wc2.1_30s_bio_5.tif' : \"MaxTemperatureofWarmestMonth\",\n",
    " data_dir + 'wc2.1_30s_bio/wc2.1_30s_bio_6.tif' : \"MinTemperatureofColdestMonth\",\n",
    " data_dir + 'wc2.1_30s_bio/wc2.1_30s_bio_7.tif' : \"TemperatureAnnualRange\",\n",
    " data_dir + 'wc2.1_30s_bio/wc2.1_30s_bio_8.tif' : \"MeanTemperatureofWettestQuarter\",\n",
    " data_dir + 'wc2.1_30s_bio/wc2.1_30s_bio_9.tif' : \"MeanTemperatureofDriestQuarter\",\n",
    " data_dir + 'wc2.1_30s_bio/wc2.1_30s_bio_10.tif' : \"MeanTemperatureofWarmestQuarter\",\n",
    " data_dir + 'wc2.1_30s_bio/wc2.1_30s_bio_11.tif' : \"MeanTemperatureofColdestQuarter\",\n",
    " data_dir + 'wc2.1_30s_bio/wc2.1_30s_bio_12.tif' : \"AnnualPrecipitation\",\n",
    " data_dir + 'wc2.1_30s_bio/wc2.1_30s_bio_13.tif' : \"PrecipitationofWettestMonth\",\n",
    " data_dir + 'wc2.1_30s_bio/wc2.1_30s_bio_14.tif' : \"PrecipitationofDriestMonth\",\n",
    " data_dir + 'wc2.1_30s_bio/wc2.1_30s_bio_15.tif' : \"PrecipitationSeasonality\",\n",
    " data_dir + 'wc2.1_30s_bio/wc2.1_30s_bio_16.tif' : \"PrecipitationofWettestQuarter\",\n",
    " data_dir + 'wc2.1_30s_bio/wc2.1_30s_bio_17.tif' : \"PrecipitationofDriestQuarter\",\n",
    " data_dir + 'wc2.1_30s_bio/wc2.1_30s_bio_18.tif' : \"PrecipitationofWarmestQuarter\",\n",
    " data_dir + 'wc2.1_30s_bio/wc2.1_30s_bio_19.tif' : \"PrecipitationofColdestQuarter\",\n",
    " data_dir + 'wc2.1_30s_bio/wc2.1_30s_elev.tif' : \"Elevation\"   \n",
    "}\n",
    "\n",
    "PET_dic = {\n",
    "   data_dir+'7504448/global-ai-et0/ai_et0.tif' : \"AverageAridityIndex\",\n",
    "   data_dir+'7504448/global-et0_annual/et0_yr.tif' : \"AverageAnnualEvapoTranspiration\"\n",
    "}"
   ]
  },
  {
   "cell_type": "code",
   "execution_count": 15,
   "metadata": {},
   "outputs": [
    {
     "data": {
      "application/vnd.jupyter.widget-view+json": {
       "model_id": "2db5da80e6414291b984a14917dab1b5",
       "version_major": 2,
       "version_minor": 0
      },
      "text/plain": [
       "  0%|          | 0/2 [00:00<?, ?it/s]"
      ]
     },
     "metadata": {},
     "output_type": "display_data"
    },
    {
     "data": {
      "application/vnd.jupyter.widget-view+json": {
       "model_id": "3bdaff890342406bb1ff3e93f3b32cc7",
       "version_major": 2,
       "version_minor": 0
      },
      "text/plain": [
       "  0%|          | 0/1296 [00:00<?, ?it/s]"
      ]
     },
     "metadata": {},
     "output_type": "display_data"
    },
    {
     "data": {
      "application/vnd.jupyter.widget-view+json": {
       "model_id": "08c4e43247e741b1a236339840bc86dd",
       "version_major": 2,
       "version_minor": 0
      },
      "text/plain": [
       "  0%|          | 0/204 [00:00<?, ?it/s]"
      ]
     },
     "metadata": {},
     "output_type": "display_data"
    },
    {
     "data": {
      "application/vnd.jupyter.widget-view+json": {
       "model_id": "b8c40b49736a444ebbef584ce42568c1",
       "version_major": 2,
       "version_minor": 0
      },
      "text/plain": [
       "  0%|          | 0/1296 [00:00<?, ?it/s]"
      ]
     },
     "metadata": {},
     "output_type": "display_data"
    },
    {
     "data": {
      "application/vnd.jupyter.widget-view+json": {
       "model_id": "872374738e7048298164819c68bb3798",
       "version_major": 2,
       "version_minor": 0
      },
      "text/plain": [
       "  0%|          | 0/204 [00:00<?, ?it/s]"
      ]
     },
     "metadata": {},
     "output_type": "display_data"
    }
   ],
   "source": [
    "# loop trough index (without na's) in final df and the location sheet (for providing the data in the final data base version)\n",
    "# reading the raster and transforming the corresponding lat and long into an index that is than search in the raster\n",
    "# class for aridity are provided by original data as well the conversion for the \"AverageAridityIndex\"\n",
    "\n",
    "all_filenames = list(PET_dic.keys())\n",
    "\n",
    "for file in tqdm(all_filenames):\n",
    "    Raster = rasterio.open(file)\n",
    "    Raster_read = Raster.read(1)\n",
    "    for index in tqdm(df[[\"Latitude\", \"Longitude\"]].dropna().index):\n",
    "        x = df.loc[index, \"Longitude\"]\n",
    "        y = df.loc[index, \"Latitude\"]\n",
    "        row, col = Raster.index(x, y)\n",
    "        df.loc[index, PET_dic[file]] = Raster_read[row, col]\n",
    "    for index2 in tqdm(NickJohnDB_loc[[\"Latitude\", \"Longitude\"]].dropna().index):\n",
    "        x = NickJohnDB_loc.loc[index2, \"Longitude\"]\n",
    "        y = NickJohnDB_loc.loc[index2, \"Latitude\"]\n",
    "        row, col = Raster.index(x, y)\n",
    "        NickJohnDB_loc.loc[index2, PET_dic[file]] = Raster_read[row, col]\n",
    "\n",
    "# attribution of aridity class\n",
    "df[\"AverageAridityIndex\"] = df[\"AverageAridityIndex\"] * 0.0001\n",
    "df[\"AridityClass\"] = \"none\"\n",
    "df.loc[df[\"AverageAridityIndex\"] < 0.03, \"AridityClass\"] = \"Hyper Arid\"\n",
    "df.loc[df[\"AverageAridityIndex\"].between(0.03, 0.2), \"AridityClass\"] = \"Arid\"\n",
    "df.loc[df[\"AverageAridityIndex\"].between(0.2, 0.5), \"AridityClass\"] = \"Semi-Arid\"\n",
    "df.loc[df[\"AverageAridityIndex\"].between(0.5, 0.65), \"AridityClass\"] = \"Dry sub-humid\"\n",
    "df.loc[df[\"AverageAridityIndex\"] > 0.65, \"AridityClass\"] = \"Humid\""
   ]
  },
  {
   "cell_type": "code",
   "execution_count": 18,
   "metadata": {},
   "outputs": [
    {
     "data": {
      "application/vnd.jupyter.widget-view+json": {
       "model_id": "3587b3120e52437ebf90b6a380815a03",
       "version_major": 2,
       "version_minor": 0
      },
      "text/plain": [
       "  0%|          | 0/20 [00:00<?, ?it/s]"
      ]
     },
     "metadata": {},
     "output_type": "display_data"
    },
    {
     "data": {
      "application/vnd.jupyter.widget-view+json": {
       "model_id": "6f7265e10ccc4c72abfb539bbd7f0c0c",
       "version_major": 2,
       "version_minor": 0
      },
      "text/plain": [
       "  0%|          | 0/1296 [00:00<?, ?it/s]"
      ]
     },
     "metadata": {},
     "output_type": "display_data"
    },
    {
     "data": {
      "application/vnd.jupyter.widget-view+json": {
       "model_id": "38187f05c18e4143b0e84252ccad9df5",
       "version_major": 2,
       "version_minor": 0
      },
      "text/plain": [
       "  0%|          | 0/204 [00:00<?, ?it/s]"
      ]
     },
     "metadata": {},
     "output_type": "display_data"
    },
    {
     "data": {
      "application/vnd.jupyter.widget-view+json": {
       "model_id": "1c8a87c4f13e420893c4b464e610187b",
       "version_major": 2,
       "version_minor": 0
      },
      "text/plain": [
       "  0%|          | 0/1296 [00:00<?, ?it/s]"
      ]
     },
     "metadata": {},
     "output_type": "display_data"
    },
    {
     "data": {
      "application/vnd.jupyter.widget-view+json": {
       "model_id": "df608118bf2f4618a8e95ed53f82869b",
       "version_major": 2,
       "version_minor": 0
      },
      "text/plain": [
       "  0%|          | 0/204 [00:00<?, ?it/s]"
      ]
     },
     "metadata": {},
     "output_type": "display_data"
    },
    {
     "data": {
      "application/vnd.jupyter.widget-view+json": {
       "model_id": "ec6753bad5ce4ebc8542e2cd03aedd61",
       "version_major": 2,
       "version_minor": 0
      },
      "text/plain": [
       "  0%|          | 0/1296 [00:00<?, ?it/s]"
      ]
     },
     "metadata": {},
     "output_type": "display_data"
    },
    {
     "data": {
      "application/vnd.jupyter.widget-view+json": {
       "model_id": "fdc093d61f66419d842296521658a24e",
       "version_major": 2,
       "version_minor": 0
      },
      "text/plain": [
       "  0%|          | 0/204 [00:00<?, ?it/s]"
      ]
     },
     "metadata": {},
     "output_type": "display_data"
    },
    {
     "data": {
      "application/vnd.jupyter.widget-view+json": {
       "model_id": "9fa73f838a0a4fd98d13d5f0f6013d58",
       "version_major": 2,
       "version_minor": 0
      },
      "text/plain": [
       "  0%|          | 0/1296 [00:00<?, ?it/s]"
      ]
     },
     "metadata": {},
     "output_type": "display_data"
    },
    {
     "data": {
      "application/vnd.jupyter.widget-view+json": {
       "model_id": "4c54001783b7430ea3173059a26e8e20",
       "version_major": 2,
       "version_minor": 0
      },
      "text/plain": [
       "  0%|          | 0/204 [00:00<?, ?it/s]"
      ]
     },
     "metadata": {},
     "output_type": "display_data"
    },
    {
     "data": {
      "application/vnd.jupyter.widget-view+json": {
       "model_id": "2194eef4af4d41dd9ba0aa55932e06a9",
       "version_major": 2,
       "version_minor": 0
      },
      "text/plain": [
       "  0%|          | 0/1296 [00:00<?, ?it/s]"
      ]
     },
     "metadata": {},
     "output_type": "display_data"
    },
    {
     "data": {
      "application/vnd.jupyter.widget-view+json": {
       "model_id": "117f27507db147aa896099c15d97c07b",
       "version_major": 2,
       "version_minor": 0
      },
      "text/plain": [
       "  0%|          | 0/204 [00:00<?, ?it/s]"
      ]
     },
     "metadata": {},
     "output_type": "display_data"
    },
    {
     "data": {
      "application/vnd.jupyter.widget-view+json": {
       "model_id": "76768477ba94464d83c45dca66b05a3f",
       "version_major": 2,
       "version_minor": 0
      },
      "text/plain": [
       "  0%|          | 0/1296 [00:00<?, ?it/s]"
      ]
     },
     "metadata": {},
     "output_type": "display_data"
    },
    {
     "data": {
      "application/vnd.jupyter.widget-view+json": {
       "model_id": "761f56b28ed448a18f94a0e664c43f30",
       "version_major": 2,
       "version_minor": 0
      },
      "text/plain": [
       "  0%|          | 0/204 [00:00<?, ?it/s]"
      ]
     },
     "metadata": {},
     "output_type": "display_data"
    },
    {
     "data": {
      "application/vnd.jupyter.widget-view+json": {
       "model_id": "7311e4003d34487c9cebea214e03c016",
       "version_major": 2,
       "version_minor": 0
      },
      "text/plain": [
       "  0%|          | 0/1296 [00:00<?, ?it/s]"
      ]
     },
     "metadata": {},
     "output_type": "display_data"
    },
    {
     "data": {
      "application/vnd.jupyter.widget-view+json": {
       "model_id": "6401112cddf34dc5b4a792c1a5b54098",
       "version_major": 2,
       "version_minor": 0
      },
      "text/plain": [
       "  0%|          | 0/204 [00:00<?, ?it/s]"
      ]
     },
     "metadata": {},
     "output_type": "display_data"
    },
    {
     "data": {
      "application/vnd.jupyter.widget-view+json": {
       "model_id": "6bd0c5438ed64ba8b215ac0b614c0dde",
       "version_major": 2,
       "version_minor": 0
      },
      "text/plain": [
       "  0%|          | 0/1296 [00:00<?, ?it/s]"
      ]
     },
     "metadata": {},
     "output_type": "display_data"
    },
    {
     "data": {
      "application/vnd.jupyter.widget-view+json": {
       "model_id": "051e7d5646bf4a1ea9cc20643e9802cc",
       "version_major": 2,
       "version_minor": 0
      },
      "text/plain": [
       "  0%|          | 0/204 [00:00<?, ?it/s]"
      ]
     },
     "metadata": {},
     "output_type": "display_data"
    },
    {
     "data": {
      "application/vnd.jupyter.widget-view+json": {
       "model_id": "63ba7bcf24514aa6807336673f0ebf0d",
       "version_major": 2,
       "version_minor": 0
      },
      "text/plain": [
       "  0%|          | 0/1296 [00:00<?, ?it/s]"
      ]
     },
     "metadata": {},
     "output_type": "display_data"
    },
    {
     "data": {
      "application/vnd.jupyter.widget-view+json": {
       "model_id": "eea81ff4c03b49fda970310023f7ed28",
       "version_major": 2,
       "version_minor": 0
      },
      "text/plain": [
       "  0%|          | 0/204 [00:00<?, ?it/s]"
      ]
     },
     "metadata": {},
     "output_type": "display_data"
    },
    {
     "data": {
      "application/vnd.jupyter.widget-view+json": {
       "model_id": "79b34370a1124ca7a1ec158520360a0f",
       "version_major": 2,
       "version_minor": 0
      },
      "text/plain": [
       "  0%|          | 0/1296 [00:00<?, ?it/s]"
      ]
     },
     "metadata": {},
     "output_type": "display_data"
    },
    {
     "data": {
      "application/vnd.jupyter.widget-view+json": {
       "model_id": "a95567762b9049319b4aa54cf7623ba6",
       "version_major": 2,
       "version_minor": 0
      },
      "text/plain": [
       "  0%|          | 0/204 [00:00<?, ?it/s]"
      ]
     },
     "metadata": {},
     "output_type": "display_data"
    },
    {
     "data": {
      "application/vnd.jupyter.widget-view+json": {
       "model_id": "2c74256d97924484bd3864d19e44ec14",
       "version_major": 2,
       "version_minor": 0
      },
      "text/plain": [
       "  0%|          | 0/1296 [00:00<?, ?it/s]"
      ]
     },
     "metadata": {},
     "output_type": "display_data"
    },
    {
     "data": {
      "application/vnd.jupyter.widget-view+json": {
       "model_id": "6f259954cd5d4bddb74621ed0060c052",
       "version_major": 2,
       "version_minor": 0
      },
      "text/plain": [
       "  0%|          | 0/204 [00:00<?, ?it/s]"
      ]
     },
     "metadata": {},
     "output_type": "display_data"
    },
    {
     "data": {
      "application/vnd.jupyter.widget-view+json": {
       "model_id": "ef2dc88f50034e7abb000ab191ac033e",
       "version_major": 2,
       "version_minor": 0
      },
      "text/plain": [
       "  0%|          | 0/1296 [00:00<?, ?it/s]"
      ]
     },
     "metadata": {},
     "output_type": "display_data"
    },
    {
     "data": {
      "application/vnd.jupyter.widget-view+json": {
       "model_id": "3538bea96012455b9f0c51285df5babf",
       "version_major": 2,
       "version_minor": 0
      },
      "text/plain": [
       "  0%|          | 0/204 [00:00<?, ?it/s]"
      ]
     },
     "metadata": {},
     "output_type": "display_data"
    },
    {
     "data": {
      "application/vnd.jupyter.widget-view+json": {
       "model_id": "28fdfc841aeb4cb4ae45582de3df06cc",
       "version_major": 2,
       "version_minor": 0
      },
      "text/plain": [
       "  0%|          | 0/1296 [00:00<?, ?it/s]"
      ]
     },
     "metadata": {},
     "output_type": "display_data"
    },
    {
     "data": {
      "application/vnd.jupyter.widget-view+json": {
       "model_id": "f231a0b693ea45208bba9bdb4744e635",
       "version_major": 2,
       "version_minor": 0
      },
      "text/plain": [
       "  0%|          | 0/204 [00:00<?, ?it/s]"
      ]
     },
     "metadata": {},
     "output_type": "display_data"
    },
    {
     "data": {
      "application/vnd.jupyter.widget-view+json": {
       "model_id": "6243789804654953ab8e555b6c4465e9",
       "version_major": 2,
       "version_minor": 0
      },
      "text/plain": [
       "  0%|          | 0/1296 [00:00<?, ?it/s]"
      ]
     },
     "metadata": {},
     "output_type": "display_data"
    },
    {
     "data": {
      "application/vnd.jupyter.widget-view+json": {
       "model_id": "9db1a10ee8cc48888d5917d518238101",
       "version_major": 2,
       "version_minor": 0
      },
      "text/plain": [
       "  0%|          | 0/204 [00:00<?, ?it/s]"
      ]
     },
     "metadata": {},
     "output_type": "display_data"
    },
    {
     "data": {
      "application/vnd.jupyter.widget-view+json": {
       "model_id": "d65d52ec1160437ab8503fedaf8c049e",
       "version_major": 2,
       "version_minor": 0
      },
      "text/plain": [
       "  0%|          | 0/1296 [00:00<?, ?it/s]"
      ]
     },
     "metadata": {},
     "output_type": "display_data"
    },
    {
     "data": {
      "application/vnd.jupyter.widget-view+json": {
       "model_id": "be6fd8b1575d4008ac8309015cd09dab",
       "version_major": 2,
       "version_minor": 0
      },
      "text/plain": [
       "  0%|          | 0/204 [00:00<?, ?it/s]"
      ]
     },
     "metadata": {},
     "output_type": "display_data"
    },
    {
     "data": {
      "application/vnd.jupyter.widget-view+json": {
       "model_id": "245b88871e814c21bad92b6f27d157fd",
       "version_major": 2,
       "version_minor": 0
      },
      "text/plain": [
       "  0%|          | 0/1296 [00:00<?, ?it/s]"
      ]
     },
     "metadata": {},
     "output_type": "display_data"
    },
    {
     "data": {
      "application/vnd.jupyter.widget-view+json": {
       "model_id": "8d95e034aa954265a4cae6329002ac4c",
       "version_major": 2,
       "version_minor": 0
      },
      "text/plain": [
       "  0%|          | 0/204 [00:00<?, ?it/s]"
      ]
     },
     "metadata": {},
     "output_type": "display_data"
    },
    {
     "data": {
      "application/vnd.jupyter.widget-view+json": {
       "model_id": "44e6b59ae49e44cc9676571c72d33989",
       "version_major": 2,
       "version_minor": 0
      },
      "text/plain": [
       "  0%|          | 0/1296 [00:00<?, ?it/s]"
      ]
     },
     "metadata": {},
     "output_type": "display_data"
    },
    {
     "data": {
      "application/vnd.jupyter.widget-view+json": {
       "model_id": "145e1a5b37ca4df1b8af87c41596fa12",
       "version_major": 2,
       "version_minor": 0
      },
      "text/plain": [
       "  0%|          | 0/204 [00:00<?, ?it/s]"
      ]
     },
     "metadata": {},
     "output_type": "display_data"
    },
    {
     "data": {
      "application/vnd.jupyter.widget-view+json": {
       "model_id": "0d515fea151343c589ab56f38aeb7c3d",
       "version_major": 2,
       "version_minor": 0
      },
      "text/plain": [
       "  0%|          | 0/1296 [00:00<?, ?it/s]"
      ]
     },
     "metadata": {},
     "output_type": "display_data"
    },
    {
     "data": {
      "application/vnd.jupyter.widget-view+json": {
       "model_id": "548707d5294d4d3ea4f161c7429973f5",
       "version_major": 2,
       "version_minor": 0
      },
      "text/plain": [
       "  0%|          | 0/204 [00:00<?, ?it/s]"
      ]
     },
     "metadata": {},
     "output_type": "display_data"
    },
    {
     "data": {
      "application/vnd.jupyter.widget-view+json": {
       "model_id": "d64dc9e5e5fd4cae9e0c2dacca20ffa3",
       "version_major": 2,
       "version_minor": 0
      },
      "text/plain": [
       "  0%|          | 0/1296 [00:00<?, ?it/s]"
      ]
     },
     "metadata": {},
     "output_type": "display_data"
    },
    {
     "data": {
      "application/vnd.jupyter.widget-view+json": {
       "model_id": "7d9fb2cb820544a4b1b6d4c98e34e1e8",
       "version_major": 2,
       "version_minor": 0
      },
      "text/plain": [
       "  0%|          | 0/204 [00:00<?, ?it/s]"
      ]
     },
     "metadata": {},
     "output_type": "display_data"
    },
    {
     "data": {
      "application/vnd.jupyter.widget-view+json": {
       "model_id": "2bdebe4b151d4cbcaadcef9426515fa0",
       "version_major": 2,
       "version_minor": 0
      },
      "text/plain": [
       "  0%|          | 0/1296 [00:00<?, ?it/s]"
      ]
     },
     "metadata": {},
     "output_type": "display_data"
    },
    {
     "data": {
      "application/vnd.jupyter.widget-view+json": {
       "model_id": "138f72b349084041913ca5e3a182eaef",
       "version_major": 2,
       "version_minor": 0
      },
      "text/plain": [
       "  0%|          | 0/204 [00:00<?, ?it/s]"
      ]
     },
     "metadata": {},
     "output_type": "display_data"
    }
   ],
   "source": [
    "# adding information from all other rasters\n",
    "all_filenames = list(bioclim_dic.keys())\n",
    "\n",
    "for file in tqdm(all_filenames):\n",
    "    Raster = rasterio.open(file)\n",
    "    Raster_read = Raster.read(1)\n",
    "    for index in tqdm(df[[\"Latitude\", \"Longitude\"]].replace(-9999, np.nan).dropna().index):\n",
    "        x = df.loc[index, \"Longitude\"]\n",
    "        y = df.loc[index, \"Latitude\"]\n",
    "        row, col = Raster.index(x, y)\n",
    "        df.loc[index, bioclim_dic[file]] = Raster_read[row, col]\n",
    "    for index2 in tqdm(NickJohnDB_loc[[\"Latitude\", \"Longitude\"]].dropna().index):\n",
    "        x = NickJohnDB_loc.loc[index2, \"Longitude\"]\n",
    "        y = NickJohnDB_loc.loc[index2, \"Latitude\"]\n",
    "        row, col = Raster.index(x, y)\n",
    "        NickJohnDB_loc.loc[index2, bioclim_dic[file]] = Raster_read[row, col]"
   ]
  },
  {
   "cell_type": "code",
   "execution_count": 19,
   "metadata": {},
   "outputs": [],
   "source": [
    "# saving location sheet for later use in the database\n",
    "NickJohnDB_loc.to_csv(data_dir + \"KunsatDB_climate.csv\")"
   ]
  },
  {
   "cell_type": "markdown",
   "metadata": {
    "tags": []
   },
   "source": [
    "## Soil type data\n",
    "Complete the missing soil type from most probable soil type from worldwide raster. The lookup table for the correspondance between the Soil_code and the Soil is given in the .rat.xml file."
   ]
  },
  {
   "cell_type": "code",
   "execution_count": 20,
   "metadata": {},
   "outputs": [],
   "source": [
    "from owslib.wcs import WebCoverageService\n",
    "\n",
    "# raster for soil type has to be laoded trought this package handeling wcm files\n",
    "# Coverage service\n",
    "var = \"wrb\"\n",
    "url = \"http://maps.isric.org/mapserv?map=/map/{}.map\".format(var)\n",
    "wcs = WebCoverageService(url, version='1.0.0')"
   ]
  },
  {
   "cell_type": "code",
   "execution_count": 21,
   "metadata": {},
   "outputs": [
    {
     "name": "stdout",
     "output_type": "stream",
     "text": [
      "['Acrisols', 'Albeluvisols', 'Alisols', 'Andosols', 'Arenosols', 'Calcisols', 'Cambisols', 'Chernozems', 'Cryosols', 'Durisols', 'Ferralsols', 'Fluvisols', 'Gleysols', 'Gypsisols', 'Histosols', 'Kastanozems', 'Leptosols', 'Lixisols', 'Luvisols', 'MostProbable', 'Nitisols', 'Phaeozems', 'Planosols', 'Plinthosols', 'Podzols', 'Regosols', 'Solonchaks', 'Solonetz', 'Stagnosols', 'Umbrisols', 'Vertisols']\n"
     ]
    }
   ],
   "source": [
    "cov_list = list(wcs.contents)\n",
    "print(cov_list)"
   ]
  },
  {
   "cell_type": "code",
   "execution_count": 22,
   "metadata": {},
   "outputs": [],
   "source": [
    "variable = 'MostProbable'\n",
    "bbox = (-180, -90, 180, 90)\n",
    "crs = 'urn:ogc:def:crs:EPSG::4326'\n",
    "resolution = 0.2\n",
    "\n",
    "# Get the data\n",
    "response = wcs.getCoverage(\n",
    "    identifier=variable, \n",
    "    crs=crs,\n",
    "    bbox=bbox, \n",
    "    resx=resolution,\n",
    "    resy=resolution, \n",
    "    format='GEOTIFF_INT16')\n",
    "\n",
    "# Save the data as geotif\n",
    "outputname = data_dir + \"{}.tif\".format(variable)\n",
    "with open(outputname, 'wb') as file:\n",
    "    file.write(response.read())"
   ]
  },
  {
   "cell_type": "code",
   "execution_count": 23,
   "metadata": {},
   "outputs": [
    {
     "data": {
      "application/vnd.jupyter.widget-view+json": {
       "model_id": "10c76ec2bdbe4f629e32806e600aaae4",
       "version_major": 2,
       "version_minor": 0
      },
      "text/plain": [
       "  0%|          | 0/1296 [00:00<?, ?it/s]"
      ]
     },
     "metadata": {},
     "output_type": "display_data"
    },
    {
     "data": {
      "text/plain": [
       "{'agree': 238, 'not agree': 424}"
      ]
     },
     "execution_count": 23,
     "metadata": {},
     "output_type": "execute_result"
    }
   ],
   "source": [
    "# loading self created xlsx with conversion from numeric values to soil type name\n",
    "soil_df = pd.read_excel(data_dir + \"wrbfu.xlsx\")\n",
    "soil_name_dict = dict(zip(list(soil_df[\"Soil_code\"]), list(soil_df[\"Soil\"])))\n",
    "agreement = {'agree': 0, 'not agree': 0}\n",
    "Raster = rasterio.open(data_dir + 'MostProbable.tif')\n",
    "Raster_read = Raster.read(1)\n",
    "for index in tqdm(df[[\"Latitude\", \"Longitude\"]].replace(-9999, np.nan).dropna().index):\n",
    "    x = df.loc[index, \"Longitude\"]\n",
    "    y = df.loc[index, \"Latitude\"]\n",
    "    row, col = Raster.index(x, y)\n",
    "    soil_type = soil_name_dict[Raster_read[row, col]]\n",
    "    # we only replace the soil type if it is not provided in the paper\n",
    "    st = df.loc[index, 'SoilTypeClass']\n",
    "    if pd.isna(st) == True:\n",
    "        df.loc[index, 'SoilTypeWRB'] = soil_type\n",
    "    else:\n",
    "        sts = st.split(',')\n",
    "        df.loc[index, 'SoilTypeWRB'] = sts[0]  # we just take the first one for simplicity really\n",
    "        if soil_type in sts:\n",
    "            agreement['agree'] += 1\n",
    "        else:\n",
    "            agreement['not agree'] += 1\n",
    "            #print('in paper:', df.loc[index, 'SoilTypeWRB'], 'in SoilGrids:', soil_type)\n",
    "agreement"
   ]
  },
  {
   "cell_type": "code",
   "execution_count": 24,
   "metadata": {},
   "outputs": [
    {
     "data": {
      "text/plain": [
       "305    Zohrabi_2012_AiEB\n",
       "Name: ReferenceTag, dtype: object"
      ]
     },
     "execution_count": 24,
     "metadata": {},
     "output_type": "execute_result"
    }
   ],
   "source": [
    "df[df['Latitude'].isna()]['ReferenceTag']"
   ]
  },
  {
   "cell_type": "markdown",
   "metadata": {
    "tags": []
   },
   "source": [
    "## Handling crop rotation\n",
    "Crop rotation are decomposed in columns \"containsCereal\", \"containsGrass\", ... with yes/no inside."
   ]
  },
  {
   "cell_type": "code",
   "execution_count": 25,
   "metadata": {},
   "outputs": [],
   "source": [
    "# put default crop rotation to 1 as they are used as weights\n",
    "df.loc[df['NbOfCropRotation'].isna(), 'NbOfCropRotation'] = 1"
   ]
  },
  {
   "cell_type": "code",
   "execution_count": 26,
   "metadata": {},
   "outputs": [],
   "source": [
    "# defining key words for choosen categorys for semi one hot encoding\n",
    "# Crops/Crop rotation\n",
    "cereals = ['Wheat','Grain Sorghum','Winter Wheat','Winter Barley','Barley','Cereals','Sorghum','Spring Wheat','Durum Wheat','Winter Durum Wheat','winter wheat (Triticum aestivum L.)','oats','unkown cereal','durum wheat (2010)','Barley ',' Sorghum',' Spring Wheat','Winter Barely ',' Spring Barley',' Srping Barley',' Wheat',' Winter Wheat',' winter wheat (2008)',' Barley',' durum wheat (2012)',' Triticale',' winter wheat ','Millet']\n",
    "fallow = ['Fallow',' \"Fallow\"',' Fallow']\n",
    "grass_herbs = [' eriophorum spp',' phacelia tanacetifolia',' sphagnum spp','calluna','Hairy Vetch','Rye Grass','Needlegrass','Grass','vetch','grassland','spontaneous herbaceous vegentation','herbaceous vegetation','velvet',' Herbs','Meadow Fescue',' Rye Grass',' tussock grass','herbaceous species','Phacelia','Timothy']\n",
    "legume = ['Alfalfa','Soybean','Peashrub','Lucerne','Clover','Snail Medic','Chickpea','Medic','peas','pea',' Bean',' Pea',' Soybean',' Peas',' Lucerne',' Grain Legumes',' pea (2011)',' Alfalfa',' Spring Pea',' Lentli ',' Lupin',' Red Clover','clover ley']\n",
    "maize = [' Maize','Maize','Corn',' corn',' Sweet Corn']\n",
    "trees_fruits = ['Andansonia Digitata L. ','Ash','Cotton','trees','eucalyptus plantation','citrus','vineyard','orchard','olive grove','Acacia trees ','apple orchard',' Sycamore',' Parkia Biglobosa (Fruits)',' citrus']\n",
    "vegetables = ['Sugar Beet','Potatoes','Carrot','Onion',' sugar beet (Beta vulgaris L.)',' vegetables',' Sugar Beet',' sugar beet ']"
   ]
  },
  {
   "cell_type": "code",
   "execution_count": 27,
   "metadata": {},
   "outputs": [],
   "source": [
    "# applingy semi one hot encoding on given data\n",
    "\n",
    "onehot_landuse(df, \"CropRotation\", \"ContainsCereals\", cereals)\n",
    "onehot_landuse(df, \"CropRotation\", \"ContainsFallow\", fallow)\n",
    "onehot_landuse(df, \"CropRotation\", \"ContainsGrassHerbs\", grass_herbs)\n",
    "onehot_landuse(df, \"CropRotation\", \"ContainsLegume\", legume)\n",
    "onehot_landuse(df, \"CropRotation\", \"ContainsMaize\", maize)\n",
    "onehot_landuse(df, \"CropRotation\", \"ContainsTreesFruits\", trees_fruits)\n",
    "onehot_landuse(df, \"CropRotation\", \"ContainsVegetables\", vegetables)\n",
    "\n",
    "# adding yes in the fields if some crops are mentioned in the current crop column, but have no values in the crop rotation\n",
    "\n",
    "df.loc[df[\"CropClass\"].replace(np.nan, \"unknown\").str.contains(r'\\b(?:{})\\b'.format('|'.join(cereals))), \"ContainsCereals\"] = \"yes\"\n",
    "df.loc[df[\"CropClass\"].replace(np.nan, \"unknown\").str.contains(r'\\b(?:{})\\b'.format('|'.join(fallow))), \"ContainsFallow\"] = \"yes\"\n",
    "df.loc[df[\"CropClass\"].replace(np.nan, \"unknown\").str.contains(r'\\b(?:{})\\b'.format('|'.join(grass_herbs))), \"ContainsGrassHerbs\"] = \"yes\"\n",
    "df.loc[df[\"CropClass\"].replace(np.nan, \"unknown\").str.contains(r'\\b(?:{})\\b'.format('|'.join(legume))), \"ContainsLegume\"] = \"yes\"\n",
    "df.loc[df[\"CropClass\"].replace(np.nan, \"unknown\").str.contains(r'\\b(?:{})\\b'.format('|'.join(maize))), \"ContainsMaize\"] = \"yes\"\n",
    "df.loc[df[\"CropClass\"].replace(np.nan, \"unknown\").str.contains(r'\\b(?:{})\\b'.format('|'.join(trees_fruits))), \"ContainsTreesFruits\"] = \"yes\"\n",
    "df.loc[df[\"CropClass\"].replace(np.nan, \"unknown\").str.contains(r'\\b(?:{})\\b'.format('|'.join(vegetables))), \"ContainsVegetables\"] = \"yes\""
   ]
  },
  {
   "cell_type": "markdown",
   "metadata": {
    "tags": []
   },
   "source": [
    "### Seasons"
   ]
  },
  {
   "cell_type": "code",
   "execution_count": 28,
   "metadata": {},
   "outputs": [],
   "source": [
    "# converting season to numeric for encoding cyclic varaibles \n",
    "df[\"Season_num\"] = df[\"Season\"].replace({\"spring\": 0, \"summer\": 1, \"autumn\": 2, \"winter\": 3})"
   ]
  },
  {
   "cell_type": "code",
   "execution_count": 29,
   "metadata": {},
   "outputs": [],
   "source": [
    "# converting all cyclic featues to a sin and cos to create a real relationship\n",
    "# and the end divided by max value -> month = 12 and season = 4\n",
    "\n",
    "df['Month1_sin'] = np.sin(2 * np.pi * df[df[\"Month1\"]!=-9999][\"Month1\"]/12.0)\n",
    "df['Month1_cos'] = np.cos(2 * np.pi * df[df[\"Month1\"]!=-9999][\"Month1\"]/12.0)\n",
    "\n",
    "df['Month2_sin'] = np.sin(2 * np.pi * df[df[\"Month2\"]!=-9999][\"Month2\"]/12.0)\n",
    "df['Month2_cos'] = np.cos(2 * np.pi * df[df[\"Month2\"]!=-9999][\"Month2\"]/12.0)\n",
    "\n",
    "df['Season_sin'] = np.sin(2 * np.pi * df[df[\"Season_num\"]!=-9999][\"Season_num\"]/3.0)\n",
    "df['Season_cos'] = np.cos(2 * np.pi * df[df[\"Season_num\"]!=-9999][\"Season_num\"]/3.0)"
   ]
  },
  {
   "cell_type": "code",
   "execution_count": 31,
   "metadata": {},
   "outputs": [
    {
     "name": "stderr",
     "output_type": "stream",
     "text": [
      "*c* argument looks like a single numeric RGB or RGBA sequence, which should be avoided as value-mapping will have precedence in case its length matches with *x* & *y*.  Please use the *color* keyword-argument or provide a 2D array with a single row if you intend to specify the same RGB or RGBA value for all points.\n"
     ]
    },
    {
     "data": {
      "image/png": "[encoded data removed]",
      "text/plain": [
       "<Figure size 1008x432 with 1 Axes>"
      ]
     },
     "metadata": {},
     "output_type": "display_data"
    }
   ],
   "source": [
    "# with this two features now e.g. December and January are closer than December and October,\n",
    "# which would not be the case if those features were linear\n",
    "df.plot.scatter('Month1_sin', 'Month1_cos').set_aspect('equal')\n",
    "plt.title(\"Cyclic encoding for feature Month1\")\n",
    "plt.savefig(data_dir + \"Month1_cyclic.JPEG\")"
   ]
  },
  {
   "cell_type": "markdown",
   "metadata": {
    "tags": []
   },
   "source": [
    "### Outliers\n",
    "\n",
    "Reasons:\n",
    "- R2 of the fit K(h) vs h is < 0.8 (mostly references from Yusuf2018, Yusuf2020, wang2022)\n",
    "- Organic soil with SOC > 0.8"
   ]
  },
  {
   "cell_type": "code",
   "execution_count": 32,
   "metadata": {},
   "outputs": [
    {
     "name": "stdout",
     "output_type": "stream",
     "text": [
      "123 entries removed\n",
      "312 entries removed\n",
      "862 entries remaining\n"
     ]
    }
   ],
   "source": [
    "# clean outliers\n",
    "\n",
    "# only keep entries which have at least an R2 of 0.8\n",
    "i2keep = df['R2'].gt(0.9)\n",
    "df = df[i2keep]\n",
    "print('{:d} entries removed'.format(np.sum(~i2keep)))\n",
    "\n",
    "# discard entries on organic soil\n",
    "i2keep = df['SoilOrganicCarbon'].lt(0.8)\n",
    "df = df[i2keep]\n",
    "print('{:d} entries removed'.format(np.sum(~i2keep)))\n",
    "\n",
    "# reset index\n",
    "df = df.reset_index(drop=True)\n",
    "print('{:d} entries remaining'.format(df.shape[0]))"
   ]
  },
  {
   "cell_type": "code",
   "execution_count": 33,
   "metadata": {},
   "outputs": [],
   "source": [
    "# save final database with additional metadata\n",
    "df.to_excel(data_dir+\"KunsatDB_prep.xlsx\")"
   ]
  },
  {
   "cell_type": "code",
   "execution_count": 34,
   "metadata": {},
   "outputs": [],
   "source": [
    "# melt and groupby to have number of entries per tension\n",
    "K_df = pd.melt(df, id_vars=['ExID'], value_vars=['Ks', 'K1', 'K2', 'K3', 'K4', 'K5', 'K6', 'K7', 'K8', 'K9', 'K10'],\n",
    "        var_name='K_name', value_name='K_value').groupby(\"K_name\").count()[\"K_value\"].reset_index()\n",
    "K_df[\"K_name\"]=pd.Categorical(K_df[\"K_name\"],categories=reversed(['Ks','K1', 'K2', 'K3', 'K4', 'K5', 'K6', 'K7', 'K8', 'K9', 'K10']))\n",
    "K_df = K_df.sort_values('K_name')"
   ]
  },
  {
   "cell_type": "code",
   "execution_count": 35,
   "metadata": {},
   "outputs": [
    {
     "data": {
      "text/plain": [
       "Text(0.5, 1.0, 'Database entries for different hydraulic conductivites')"
      ]
     },
     "execution_count": 35,
     "metadata": {},
     "output_type": "execute_result"
    },
    {
     "data": {
      "image/png": "[encoded data removed]",
      "text/plain": [
       "<Figure size 720x432 with 1 Axes>"
      ]
     },
     "metadata": {},
     "output_type": "display_data"
    }
   ],
   "source": [
    "# figure\n",
    "fig = plt.figure(figsize=(10, 6))\n",
    "plt.hlines(y=K_df[\"K_name\"], xmin=0, xmax=K_df[\"K_value\"], alpha=0.4)\n",
    "plt.scatter(K_df[\"K_value\"], K_df[\"K_name\"], s=40, alpha=1)\n",
    "plt.xlabel(\"Number of entries [-]\")\n",
    "plt.title(\"Database entries for different hydraulic conductivites\")"
   ]
  },
  {
   "cell_type": "code",
   "execution_count": null,
   "metadata": {},
   "outputs": [],
   "source": []
  }
 ],
 "metadata": {
  "kernelspec": {
   "display_name": "Python 3",
   "language": "python",
   "name": "python3"
  },
  "language_info": {
   "codemirror_mode": {
    "name": "ipython",
    "version": 3
   },
   "file_extension": ".py",
   "mimetype": "text/x-python",
   "name": "python",
   "nbconvert_exporter": "python",
   "pygments_lexer": "ipython3",
   "version": "3.8.9"
  }
 },
 "nbformat": 4,
 "nbformat_minor": 4
}
